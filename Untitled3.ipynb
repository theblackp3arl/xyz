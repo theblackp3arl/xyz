{
 "cells": [
  {
   "cell_type": "code",
   "execution_count": 175,
   "id": "7efa9f37",
   "metadata": {},
   "outputs": [],
   "source": [
    "import pandas as pd"
   ]
  },
  {
   "cell_type": "code",
   "execution_count": 176,
   "id": "97e1f37c",
   "metadata": {},
   "outputs": [],
   "source": [
    "from sklearn.preprocessing import LabelEncoder, StandardScaler"
   ]
  },
  {
   "cell_type": "code",
   "execution_count": 177,
   "id": "be6a38b2",
   "metadata": {},
   "outputs": [],
   "source": [
    "from sklearn.model_selection import train_test_split , GridSearchCV"
   ]
  },
  {
   "cell_type": "code",
   "execution_count": 178,
   "id": "e47b5f04",
   "metadata": {},
   "outputs": [],
   "source": [
    "from sklearn.ensemble import RandomForestClassifier"
   ]
  },
  {
   "cell_type": "code",
   "execution_count": 179,
   "id": "d46adb0f",
   "metadata": {},
   "outputs": [],
   "source": [
    "from sklearn.linear_model import LogisticRegression"
   ]
  },
  {
   "cell_type": "code",
   "execution_count": 180,
   "id": "cde63da0",
   "metadata": {},
   "outputs": [],
   "source": [
    "from sklearn.metrics import classification_report , confusion_matrix , roc_auc_score"
   ]
  },
  {
   "cell_type": "code",
   "execution_count": 181,
   "id": "7b1d3ac1",
   "metadata": {},
   "outputs": [],
   "source": [
    "train_df = pd.read_csv('termdeposit_train.csv')\n",
    "test_df = pd.read_csv('termdeposit_test.csv')"
   ]
  },
  {
   "cell_type": "code",
   "execution_count": 182,
   "id": "ff11203a",
   "metadata": {},
   "outputs": [],
   "source": [
    "categorical_cols =  ['job','marital','education','default','housing','loan','contact','month','poutcome']\n",
    "numerical_cols = ['age','duration','campaign','pdays','previous']"
   ]
  },
  {
   "cell_type": "code",
   "execution_count": null,
   "id": "22dbecdf",
   "metadata": {},
   "outputs": [],
   "source": []
  },
  {
   "cell_type": "code",
   "execution_count": 183,
   "id": "8fcf1d8a",
   "metadata": {},
   "outputs": [],
   "source": [
    "y_train = train_df['subscribed'].apply(lambda x: 1 if x=='yes'else 0)"
   ]
  },
  {
   "cell_type": "code",
   "execution_count": null,
   "id": "5a66fbf9",
   "metadata": {},
   "outputs": [],
   "source": []
  },
  {
   "cell_type": "code",
   "execution_count": 184,
   "id": "9055556c",
   "metadata": {},
   "outputs": [],
   "source": [
    "label_encoder = {}\n",
    "for col in categorical_cols:\n",
    "    le=LabelEncoder()\n",
    "    train_df[col]=le.fit_transform(train_df[col])\n",
    "    test_df[col]=le.transform(test_df[col])\n",
    "    label_encoder[col]=le"
   ]
  },
  {
   "cell_type": "code",
   "execution_count": null,
   "id": "da8130e8",
   "metadata": {},
   "outputs": [],
   "source": []
  },
  {
   "cell_type": "code",
   "execution_count": 185,
   "id": "9afc211e",
   "metadata": {},
   "outputs": [],
   "source": [
    "x_train = train_df.drop(columns=['ID','subscribed'])\n",
    "x_test = test_df.drop(columns=['ID'])"
   ]
  },
  {
   "cell_type": "code",
   "execution_count": null,
   "id": "d07bce5e",
   "metadata": {},
   "outputs": [],
   "source": []
  },
  {
   "cell_type": "code",
   "execution_count": 186,
   "id": "47cf19a3",
   "metadata": {},
   "outputs": [],
   "source": [
    "scaler = StandardScaler()\n",
    "x_train[numerical_cols] = scaler.fit_transform(x_train[numerical_cols])\n",
    "x_test[numerical_cols] = scaler.fit_transform(x_test[numerical_cols])"
   ]
  },
  {
   "cell_type": "code",
   "execution_count": 187,
   "id": "8f250f6f",
   "metadata": {},
   "outputs": [],
   "source": [
    "x_train,x_val,y_train,y_val = train_test_split(x_train,y_train,test_size = 0.2, random_state = 42)"
   ]
  },
  {
   "cell_type": "code",
   "execution_count": null,
   "id": "e38acb39",
   "metadata": {},
   "outputs": [],
   "source": [
    "model = LogisticRegression(max_iter=1000,random_state=42)\n",
    "model.fit(x_train,y_train)"
   ]
  },
  {
   "cell_type": "code",
   "execution_count": 170,
   "id": "7b5bd968",
   "metadata": {},
   "outputs": [],
   "source": [
    "y_val_pred = model.predict(x_val)"
   ]
  },
  {
   "cell_type": "code",
   "execution_count": 171,
   "id": "a066ee84",
   "metadata": {},
   "outputs": [
    {
     "name": "stdout",
     "output_type": "stream",
     "text": [
      "Validation Classification Report:\n",
      "              precision    recall  f1-score   support\n",
      "\n",
      "           0       0.91      0.98      0.94      5599\n",
      "           1       0.56      0.23      0.32       731\n",
      "\n",
      "    accuracy                           0.89      6330\n",
      "   macro avg       0.73      0.60      0.63      6330\n",
      "weighted avg       0.87      0.89      0.87      6330\n",
      "\n",
      "Validation ROC-AUC Score:\n",
      "0.6026178702518942\n"
     ]
    }
   ],
   "source": [
    "print ('Validation Classification Report:')\n",
    "print (classification_report(y_val,y_val_pred))\n",
    "print ('Validation ROC-AUC Score:')\n",
    "print (roc_auc_score(y_val,y_val_pred))"
   ]
  },
  {
   "cell_type": "code",
   "execution_count": null,
   "id": "c4fb72b9",
   "metadata": {},
   "outputs": [],
   "source": []
  },
  {
   "cell_type": "code",
   "execution_count": 174,
   "id": "591eb0ee",
   "metadata": {},
   "outputs": [],
   "source": [
    "test_preds = model.predict(x_test)"
   ]
  },
  {
   "cell_type": "code",
   "execution_count": 106,
   "id": "b40b6b03",
   "metadata": {},
   "outputs": [],
   "source": [
    "submission =pd.DataFrame({'ID':test_df['ID'],'subscribed':['YES'if pred==1 else 'NO' for pred in test_preds]})\n",
    "submission.to_csv('submission.csv',index= False)"
   ]
  },
  {
   "cell_type": "code",
   "execution_count": null,
   "id": "99bd6192",
   "metadata": {},
   "outputs": [],
   "source": []
  }
 ],
 "metadata": {
  "kernelspec": {
   "display_name": "Python 3 (ipykernel)",
   "language": "python",
   "name": "python3"
  },
  "language_info": {
   "codemirror_mode": {
    "name": "ipython",
    "version": 3
   },
   "file_extension": ".py",
   "mimetype": "text/x-python",
   "name": "python",
   "nbconvert_exporter": "python",
   "pygments_lexer": "ipython3",
   "version": "3.11.4"
  }
 },
 "nbformat": 4,
 "nbformat_minor": 5
}
